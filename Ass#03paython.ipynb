{
 "cells": [
  {
   "cell_type": "code",
   "execution_count": 1,
   "metadata": {},
   "outputs": [
    {
     "name": "stdout",
     "output_type": "stream",
     "text": [
      " Enter the first value 4\n",
      " Enter the 2nd value 2\n",
      "Enter operator**\n",
      "16 answer\n"
     ]
    }
   ],
   "source": [
    "a1 = input(' Enter the first value ')\n",
    "b2 = input(' Enter the 2nd value ')\n",
    "operator = input('Enter operator')\n",
    "a1 = int(a1)\n",
    "b2 = int(b2)\n",
    "if operator == '+':\n",
    "    val= a1 + b2\n",
    "    print(val, 'answer')\n",
    "elif operator == '-':\n",
    "    val = a1 - b2\n",
    "    print(val, 'answer')\n",
    "elif operator == '*':\n",
    "    val = a1 * b2\n",
    "    print(val, 'answer')\n",
    "elif operator == '/':\n",
    "    val = a1 / b2\n",
    "    print(val, 'answer')\n",
    "elif operator == '**':\n",
    "    val = a1 ** b2\n",
    "    print(val, 'answer')\n",
    "else:\n",
    "    print('Enter correct operator')"
   ]
  },
  {
   "cell_type": "code",
   "execution_count": 2,
   "metadata": {},
   "outputs": [
    {
     "name": "stdout",
     "output_type": "stream",
     "text": [
      "1 is a numeric Value in List\n",
      "2 is a numeric Value in List\n",
      "3 is a numeric Value in List\n",
      "4 is a numeric Value in List\n",
      "5 is a numeric Value in List\n",
      "6 is a numeric Value in List\n",
      "7 is a numeric Value in List\n",
      "8 is a numeric Value in List\n",
      "78 is a numeric Value in List\n",
      "12 is a numeric Value in List\n",
      "10 is a numeric Value in List\n",
      "40 is a numeric Value in List\n",
      "0.1 is a numeric Value in List\n",
      "10.5 is a numeric Value in List\n"
     ]
    }
   ],
   "source": [
    "arr = ['Karachi','hyd','Noman','Aslam','Alam',1,2,3,4,5,6,7,8,78,12,10,40,0.1,10.5,'s','n','d']\n",
    "for i in arr:\n",
    "    if type(i) == int:\n",
    "        print(i,\"is a numeric Value in List\")\n",
    "    elif type(i) == float:\n",
    "        print(i,\"is a numeric Value in List\")"
   ]
  },
  {
   "cell_type": "code",
   "execution_count": 3,
   "metadata": {},
   "outputs": [
    {
     "name": "stdout",
     "output_type": "stream",
     "text": [
      "Enter KeyHouse#14\n",
      "Enter ValueStreet#234\n",
      "{'House#14': 'Street#234'}\n"
     ]
    }
   ],
   "source": [
    "dic = {}\n",
    "keyinput = input(\"Enter Key\")\n",
    "valueinput = input(\"Enter Value\")\n",
    "dic.update({keyinput:valueinput})\n",
    "\n",
    "print(dic)"
   ]
  },
  {
   "cell_type": "code",
   "execution_count": 4,
   "metadata": {},
   "outputs": [
    {
     "name": "stdout",
     "output_type": "stream",
     "text": [
      "Sum of all numeric items a dictionary is 126\n"
     ]
    }
   ],
   "source": [
    "dic = {\n",
    "    'num1' : 1,\n",
    "    'num2' : 5,\n",
    "    'string':'Name',\n",
    "    'char':'a',\n",
    "    'num3' : 40,\n",
    "    'num4' : 80,\n",
    "}\n",
    "\n",
    "sum = 0\n",
    "\n",
    "for i in dic.values():\n",
    "    if type(i) == int:\n",
    "        sum +=i\n",
    "\n",
    "print(\"Sum of all numeric items a dictionary is\" , sum)"
   ]
  },
  {
   "cell_type": "code",
   "execution_count": 5,
   "metadata": {},
   "outputs": [
    {
     "name": "stdout",
     "output_type": "stream",
     "text": [
      "Repeated item in list are [2, 4, 7, 9]\n"
     ]
    }
   ],
   "source": [
    " arr = [2,3,4,5,4,7,9,6,7,8,9,10,2,]\n",
    "arr_range = len(arr)\n",
    "repeated = []\n",
    "for i in range (arr_range):\n",
    "    a = i + 2\n",
    "    for b in range(a,arr_range):\n",
    "        if arr[i] == arr[b] and arr[i] not in repeated:\n",
    "            repeated.append(arr[i])\n",
    "print(\"Repeated item in list are\" , repeated)"
   ]
  },
  {
   "cell_type": "code",
   "execution_count": 6,
   "metadata": {},
   "outputs": [
    {
     "name": "stdout",
     "output_type": "stream",
     "text": [
      "Enter Key Name Check if exist or not50\n",
      "Given Key dose not exist\n"
     ]
    }
   ],
   "source": [
    "dic = {\n",
    "    'num1' : 12,\n",
    "    'num2' : 4,\n",
    "    'string':'Name',\n",
    "    'char':'a',\n",
    "    'num3' : 18,\n",
    "    'num4':20,\n",
    "}\n",
    "check_key = input(\"Enter Key Name Check if exist or not\")\n",
    "flag = False\n",
    "for i in dic.keys():\n",
    "    if i == check_key:\n",
    "        flag = True\n",
    "        break\n",
    "\n",
    "if flag:\n",
    "    print(\"Given Key exist\")\n",
    "else:\n",
    "    print(\"Given Key dose not exist\")"
   ]
  },
  {
   "cell_type": "code",
   "execution_count": null,
   "metadata": {},
   "outputs": [],
   "source": []
  }
 ],
 "metadata": {
  "kernelspec": {
   "display_name": "Python 3",
   "language": "python",
   "name": "python3"
  },
  "language_info": {
   "codemirror_mode": {
    "name": "ipython",
    "version": 3
   },
   "file_extension": ".py",
   "mimetype": "text/x-python",
   "name": "python",
   "nbconvert_exporter": "python",
   "pygments_lexer": "ipython3",
   "version": "3.7.4"
  }
 },
 "nbformat": 4,
 "nbformat_minor": 2
}
