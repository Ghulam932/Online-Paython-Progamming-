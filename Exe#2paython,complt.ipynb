{
 "cells": [
  {
   "cell_type": "code",
   "execution_count": 1,
   "metadata": {},
   "outputs": [
    {
     "name": "stdout",
     "output_type": "stream",
     "text": [
      "The Length of the list is:  15\n"
     ]
    }
   ],
   "source": [
    "num = len([1, 2, 12, 14, 15, 17, 19, 30, 40, 45, 46, 89, 100, 200, 900])\n",
    "print(\"The Length of the list is: \", num)"
   ]
  },
  {
   "cell_type": "code",
   "execution_count": 2,
   "metadata": {},
   "outputs": [
    {
     "name": "stdout",
     "output_type": "stream",
     "text": [
      "How many numbers do you want to enter: 4\n",
      "Enter the number: 2\n",
      "Enter the number: 1\n",
      "Enter the number: 3\n",
      "Enter the number: 1\n",
      "Sum of the list is:  7\n"
     ]
    }
   ],
   "source": [
    "num = int(input(\"How many numbers do you want to enter: \"))\n",
    "lst = []\n",
    "for n in range (num):\n",
    "    numbers = int(input(\"Enter the number: \"))\n",
    "    lst.append(numbers)\n",
    "       \n",
    "print(\"Sum of the list is: \", sum(lst))"
   ]
  },
  {
   "cell_type": "code",
   "execution_count": 3,
   "metadata": {},
   "outputs": [
    {
     "name": "stdout",
     "output_type": "stream",
     "text": [
      "How many numbers do you want to enter: 3\n",
      "Enter the number: 12\n",
      "Enter the number: 13\n",
      "Enter the number: 10\n",
      "Sum of the list is:  35\n"
     ]
    }
   ],
   "source": [
    "num = int(input(\"How many numbers do you want to enter: \"))\n",
    "lst = []\n",
    "for n in range (num):\n",
    "    numbers = int(input(\"Enter the number: \"))\n",
    "    lst.append(numbers)\n",
    "       \n",
    "print(\"Sum of the list is: \", sum(lst))"
   ]
  },
  {
   "cell_type": "code",
   "execution_count": 4,
   "metadata": {},
   "outputs": [
    {
     "name": "stdout",
     "output_type": "stream",
     "text": [
      "Enter your English marks 99\n",
      " Enter your Maths marks 80\n",
      " Enter your Biology marks 90\n",
      "Enter your Chemistry marks 98\n",
      "Enter your Computer marks87\n",
      "percentage:  90.8\n",
      "Grade A+\n"
     ]
    }
   ],
   "source": [
    "eng = input(\"Enter your English marks \")\n",
    "math = input(\" Enter your Maths marks \")\n",
    "biol = input(\" Enter your Biology marks \")\n",
    "chem = input(\"Enter your Chemistry marks \")\n",
    "comp = input(\"Enter your Computer marks\")\n",
    "total = 500;\n",
    "sum = int(eng) + int(math) + int(biol) + int(chem) + int(comp) ;\n",
    "\n",
    "per = (sum*100) / total ;\n",
    "print(\"percentage: \", per)\n",
    "if per >= 80 and per <=100: \n",
    "    print(\"Grade A+\") \n",
    "elif(per >= 70 and per <=80):\n",
    "    print(\"Grade A\")\n",
    "elif per >= 60 and per < 70 :\n",
    " print(\"Grade B\")\n",
    "elif per >= 50 and per < 60 :\n",
    " print(\"Grade C\")\n",
    "elif per >= 40 and per < 50 :\n",
    "  print(\"Grade D\")\n",
    "elif per >= 33 and per < 0 :\n",
    " print(\"Fail\")\n",
    "else :\n",
    "     print(\"you have given inappropriate % \")"
   ]
  },
  {
   "cell_type": "code",
   "execution_count": 5,
   "metadata": {},
   "outputs": [
    {
     "name": "stdout",
     "output_type": "stream",
     "text": [
      "Enter a number: 999999999\n",
      "This is odd number\n"
     ]
    }
   ],
   "source": [
    "num = int(input(\"Enter a number: \"))\n",
    "value = num % 2\n",
    "if value > 0:\n",
    "    print(\"This is odd number\")\n",
    "else:\n",
    "    print(\"This is even number\")"
   ]
  },
  {
   "cell_type": "code",
   "execution_count": 6,
   "metadata": {},
   "outputs": [
    {
     "name": "stdout",
     "output_type": "stream",
     "text": [
      "The Length of the list is:  15\n"
     ]
    }
   ],
   "source": [
    "num = len([1, 2, 12, 14, 15, 17, 19, 30, 40, 45, 46, 89, 100, 200, 900])\n",
    "print(\"The Length of the list is: \", num)"
   ]
  },
  {
   "cell_type": "code",
   "execution_count": 7,
   "metadata": {},
   "outputs": [
    {
     "name": "stdout",
     "output_type": "stream",
     "text": [
      "How many numbers do you want to enter: 19\n",
      "Enter number: 12\n",
      "Enter number: 13\n",
      "Enter number: 15\n",
      "Enter number: 3\n",
      "Enter number: 2\n",
      "Enter number: 1\n",
      "Enter number: 4\n",
      "Enter number: 6\n",
      "Enter number: 7\n",
      "Enter number: 8\n",
      "Enter number: 9\n",
      "Enter number: 10\n",
      "Enter number: 12\n",
      "Enter number: 2\n",
      "Enter number: 14\n",
      "Enter number: 15\n",
      "Enter number: 18\n",
      "Enter number: 13\n",
      "Enter number: 17\n",
      "Largest element in the list is:  18\n"
     ]
    }
   ],
   "source": [
    "num = int(input(\"How many numbers do you want to enter: \"))\n",
    "lst = []\n",
    "for n in range (num):\n",
    "    numbers = int(input(\"Enter number: \"))\n",
    "    lst.append(numbers)\n",
    "       \n",
    "print(\"Largest element in the list is: \", max(lst))"
   ]
  },
  {
   "cell_type": "code",
   "execution_count": 8,
   "metadata": {},
   "outputs": [
    {
     "name": "stdout",
     "output_type": "stream",
     "text": [
      "[12, 1, 24, 3, 15, 8, 13, 21]\n"
     ]
    }
   ],
   "source": [
    "a = [12,1,24,3,15,8,13,21,34,55,90,50,56,54,33,46,566,500]\n",
    "\n",
    "new_list = []\n",
    "for item in a:\n",
    "    if item < 30:\n",
    "        \n",
    "        new_list.append(item)\n",
    "\n",
    "print(new_list)"
   ]
  },
  {
   "cell_type": "code",
   "execution_count": null,
   "metadata": {},
   "outputs": [],
   "source": []
  }
 ],
 "metadata": {
  "kernelspec": {
   "display_name": "Python 3",
   "language": "python",
   "name": "python3"
  },
  "language_info": {
   "codemirror_mode": {
    "name": "ipython",
    "version": 3
   },
   "file_extension": ".py",
   "mimetype": "text/x-python",
   "name": "python",
   "nbconvert_exporter": "python",
   "pygments_lexer": "ipython3",
   "version": "3.7.4"
  }
 },
 "nbformat": 4,
 "nbformat_minor": 2
}
